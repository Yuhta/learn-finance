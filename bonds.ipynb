{
 "cells": [
  {
   "cell_type": "markdown",
   "metadata": {},
   "source": [
    "#### 1)\n",
    "$$k = \\frac{1}{1 + \\frac{y}{f}}$$\n",
    "$$PV = \\frac{c}{f}\\sum_{i=1}^{n}k^i + vk^n = \\frac{c(k - k^{n+1})}{f(1-k)} + vk^n$$"
   ]
  },
  {
   "cell_type": "code",
   "execution_count": 1,
   "metadata": {},
   "outputs": [
    {
     "data": {
      "text/plain": [
       "91.59664893092409"
      ]
     },
     "execution_count": 1,
     "metadata": {},
     "output_type": "execute_result"
    }
   ],
   "source": [
    "c = 0.05\n",
    "f = 2\n",
    "y = 0.03\n",
    "n = 6\n",
    "v = 100\n",
    "k = 1 / (1 + y/f)\n",
    "def pv():\n",
    "    return c*(k - k**(n+1)) / f / (1-k) + v*k**n\n",
    "pv()"
   ]
  },
  {
   "cell_type": "markdown",
   "metadata": {},
   "source": [
    "#### 2)"
   ]
  },
  {
   "cell_type": "code",
   "execution_count": 2,
   "metadata": {},
   "outputs": [
    {
     "data": {
      "text/plain": [
       "0.0038571493124068823"
      ]
     },
     "execution_count": 2,
     "metadata": {},
     "output_type": "execute_result"
    }
   ],
   "source": [
    "lo = k\n",
    "hi = 1\n",
    "k0 = k\n",
    "while hi - lo > 1e-6:\n",
    "    k = (lo + hi) / 2\n",
    "    pv2 = pv()\n",
    "    if pv2 < 99:\n",
    "        lo = k\n",
    "    elif pv2 > 99:\n",
    "        hi = k\n",
    "    else:\n",
    "        break\n",
    "pv2 = (1 / lo - 1) * f\n",
    "k = k0\n",
    "pv2"
   ]
  },
  {
   "cell_type": "markdown",
   "metadata": {},
   "source": [
    "#### 3)"
   ]
  },
  {
   "cell_type": "code",
   "execution_count": 3,
   "metadata": {},
   "outputs": [
    {
     "data": {
      "text/plain": [
       "2.6489495707425412"
      ]
     },
     "execution_count": 3,
     "metadata": {},
     "output_type": "execute_result"
    }
   ],
   "source": [
    "(99 - v*k**n) * f * (1 - k) / (k - k**(n+1))"
   ]
  }
 ],
 "metadata": {
  "kernelspec": {
   "display_name": "Python 3",
   "language": "python",
   "name": "python3"
  },
  "language_info": {
   "codemirror_mode": {
    "name": "ipython",
    "version": 3
   },
   "file_extension": ".py",
   "mimetype": "text/x-python",
   "name": "python",
   "nbconvert_exporter": "python",
   "pygments_lexer": "ipython3",
   "version": "3.5.2"
  }
 },
 "nbformat": 4,
 "nbformat_minor": 2
}
